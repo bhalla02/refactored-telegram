{
 "cells": [
  {
   "cell_type": "markdown",
   "id": "dc27a50c-e2b0-4735-9dd0-b00d05969a01",
   "metadata": {},
   "source": [
    "Q1\n",
    "\n",
    "Purpose: Grid Search CV (Cross-Validation) is used to systematically search for the best hyperparameters for a machine learning model. It helps in tuning the model to achieve optimal performance.\n",
    "How It Works:\n",
    "Define Hyperparameter Space: Specify the hyperparameters and the range of values to be tested.\n",
    "Cross-Validation: For each combination of hyperparameters, perform k-fold cross-validation.\n",
    "Evaluate Performance: Calculate the performance metric (e.g., accuracy, F1 score) for each fold and average them.\n",
    "Select Best Parameters: Choose the combination of hyperparameters that provides the best performance.\n"
   ]
  },
  {
   "cell_type": "markdown",
   "id": "6798cd89-829e-4751-ae9a-900dbbbc4371",
   "metadata": {},
   "source": [
    "Q2\n",
    "\n",
    "Grid Search CV:\n",
    "\n",
    "Search Method: Exhaustively searches all possible combinations of hyperparameters.\n",
    "Pros: Guarantees finding the best combination within the specified grid.\n",
    "Cons: Computationally expensive, especially with a large number of hyperparameters and wide ranges.\n",
    "Randomized Search CV:\n",
    "\n",
    "Search Method: Samples a fixed number of hyperparameter combinations from the specified ranges.\n",
    "Pros: More efficient and less computationally expensive, can find good hyperparameters quicker.\n",
    "Cons: May not find the absolute best combination since it doesn't explore all possibilities.\n",
    "When to Choose:\n",
    "\n",
    "Grid Search CV: When you have a small hyperparameter space and can afford the computational cost.\n",
    "Randomized Search CV: When you have a large hyperparameter space or need a quicker solution."
   ]
  },
  {
   "cell_type": "markdown",
   "id": "ed69aba2-bbf9-4a66-a7c1-15cd6c85ff97",
   "metadata": {},
   "source": [
    "Q3\n",
    "\n",
    "Data Leakage in Machine Learning\n",
    "Definition: Data leakage occurs when information from outside the training dataset is used to create the model, leading to overly optimistic performance estimates.\n",
    "Problem: It can cause the model to perform well during training/testing but fail in real-world scenarios because it has learned from data it shouldn't have access to.\n"
   ]
  },
  {
   "cell_type": "markdown",
   "id": "219a0acf-0b17-4909-b9d3-9fd8c4953a60",
   "metadata": {},
   "source": [
    "Q4\n",
    "\n",
    "Preventing Data Leakage\n",
    "Separate Datasets: Ensure proper separation of training, validation, and test datasets.\n",
    "Pipeline Management: Use pipelines to ensure that data preprocessing steps are applied only to the training data and not leaked to validation/test data.\n",
    "Temporal Splits: For time series data, split the data based on time to ensure no future data is used in training"
   ]
  },
  {
   "cell_type": "markdown",
   "id": "c85e823e-cf43-4558-8f14-fcc8bd17e828",
   "metadata": {},
   "source": [
    "Q5\n",
    "\n",
    " Confusion Matrix\n",
    "Definition: A confusion matrix is a table that is used to evaluate the performance of a classification model.\n",
    "Components:\n",
    "True Positives (TP): Correctly predicted positive instances.\n",
    "True Negatives (TN): Correctly predicted negative instances.\n",
    "False Positives (FP): Incorrectly predicted positive instances.\n",
    "False Negatives (FN): Incorrectly predicted negative instances."
   ]
  },
  {
   "cell_type": "markdown",
   "id": "071a4aef-df6d-41ec-9f7f-300948eb1be1",
   "metadata": {},
   "source": [
    "Q6\n",
    "\n",
    "Difference Between Precision and Recall\n",
    "Precision: The ratio of correctly predicted positive observations to the total predicted positives.\n",
    "Formula: \n",
    "Precision\n",
    "=\n",
    "𝑇\n",
    "𝑃\n",
    "𝑇\n",
    "𝑃\n",
    "+\n",
    "𝐹\n",
    "𝑃\n",
    "Precision= \n",
    "TP+FP\n",
    "TP\n",
    "​\n",
    " \n",
    "Recall: The ratio of correctly predicted positive observations to all the observations in the actual class.\n",
    "Formula: \n",
    "Recall\n",
    "=\n",
    "𝑇\n",
    "𝑃\n",
    "𝑇\n",
    "𝑃\n",
    "+\n",
    "𝐹\n",
    "𝑁\n",
    "Recall= \n",
    "TP+FN\n",
    "TP\n",
    "​\n"
   ]
  },
  {
   "cell_type": "code",
   "execution_count": null,
   "id": "0c45f4ce-3013-4fd3-8aa1-ce03aa69b3d2",
   "metadata": {},
   "outputs": [],
   "source": [
    "Q7\n",
    "\n"
   ]
  }
 ],
 "metadata": {
  "kernelspec": {
   "display_name": "Python 3 (ipykernel)",
   "language": "python",
   "name": "python3"
  },
  "language_info": {
   "codemirror_mode": {
    "name": "ipython",
    "version": 3
   },
   "file_extension": ".py",
   "mimetype": "text/x-python",
   "name": "python",
   "nbconvert_exporter": "python",
   "pygments_lexer": "ipython3",
   "version": "3.10.8"
  }
 },
 "nbformat": 4,
 "nbformat_minor": 5
}
